{
 "cells": [
  {
   "cell_type": "code",
   "execution_count": 1,
   "metadata": {},
   "outputs": [
    {
     "ename": "SyntaxError",
     "evalue": "invalid syntax (<ipython-input-1-3065388b8571>, line 3)",
     "output_type": "error",
     "traceback": [
      "\u001b[1;36m  File \u001b[1;32m\"<ipython-input-1-3065388b8571>\"\u001b[1;36m, line \u001b[1;32m3\u001b[0m\n\u001b[1;33m    'lb': 453.59237,\u001b[0m\n\u001b[1;37m        ^\u001b[0m\n\u001b[1;31mSyntaxError\u001b[0m\u001b[1;31m:\u001b[0m invalid syntax\n"
     ]
    }
   ],
   "source": [
    "def density_check(name: str, mass: Tuple[float, str] , volume: Tuple      [float, str]):\n",
    "    conversion_factors = dict(\n",
    "        'lb': 453.59237,\n",
    "        'oz': 28.349523125,\n",
    "        'kg': 1000\n",
    "        'mg': 0.001\n",
    "\n",
    "    )\n",
    "    "
   ]
  },
  {
   "cell_type": "code",
   "execution_count": 5,
   "metadata": {},
   "outputs": [
    {
     "name": "stdout",
     "output_type": "stream",
     "text": "60.0\n0.04\n12.0\n"
    }
   ],
   "source": [
    "# current = voltage / resistance\n",
    "\n",
    "# so if I have a 12v supply and I want to have at most 200 mA\n",
    "# 200 milliamps is 0.2 amps\n",
    "\n",
    "# 0.2 A = 12 V / R\n",
    "# multiply both sides by  R\n",
    "\n",
    "#0.2A * R = 12V\n",
    "#divide each side by 0.2A\n",
    "\n",
    "# R = 12V / 0.2A\n",
    "\n",
    "needed_resistance  = 12 / 0.2\n",
    "print(needed_resistance)\n",
    "\n",
    "what_i_have = 12 / 300\n",
    "print(what_i_have)\n"
   ]
  },
  {
   "cell_type": "code",
   "execution_count": null,
   "metadata": {},
   "outputs": [],
   "source": []
  }
 ]
}